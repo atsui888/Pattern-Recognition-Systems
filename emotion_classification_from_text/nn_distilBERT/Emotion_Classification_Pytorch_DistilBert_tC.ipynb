{
 "cells": [
  {
   "cell_type": "code",
   "execution_count": 1,
   "metadata": {},
   "outputs": [],
   "source": [
    "access_token = ''\n",
    "# !pip install huggingface_hub\n",
    "!python -c \"from huggingface_hub.hf_api import HfFolder; HfFolder.save_token('put token here')\"\n",
    "\n",
    "# - how to retrieve access token?\n",
    "#    - https://youtu.be/OFed5PdDAJI?t=784"
   ]
  },
  {
   "cell_type": "code",
   "execution_count": 2,
   "metadata": {},
   "outputs": [],
   "source": [
    "# !pip install datasets"
   ]
  },
  {
   "cell_type": "markdown",
   "metadata": {},
   "source": [
    "# Load and Understand the Dataset"
   ]
  },
  {
   "cell_type": "code",
   "execution_count": 3,
   "metadata": {},
   "outputs": [],
   "source": [
    "from datasets import load_dataset\n",
    "emotions = load_dataset(\"dair-ai/emotion\")"
   ]
  },
  {
   "cell_type": "code",
   "execution_count": 4,
   "metadata": {},
   "outputs": [
    {
     "data": {
      "text/html": [
       "<div>\n",
       "<style scoped>\n",
       "    .dataframe tbody tr th:only-of-type {\n",
       "        vertical-align: middle;\n",
       "    }\n",
       "\n",
       "    .dataframe tbody tr th {\n",
       "        vertical-align: top;\n",
       "    }\n",
       "\n",
       "    .dataframe thead th {\n",
       "        text-align: right;\n",
       "    }\n",
       "</style>\n",
       "<table border=\"1\" class=\"dataframe\">\n",
       "  <thead>\n",
       "    <tr style=\"text-align: right;\">\n",
       "      <th></th>\n",
       "      <th>text</th>\n",
       "      <th>label</th>\n",
       "    </tr>\n",
       "  </thead>\n",
       "  <tbody>\n",
       "    <tr>\n",
       "      <th>0</th>\n",
       "      <td>i didnt feel humiliated</td>\n",
       "      <td>0</td>\n",
       "    </tr>\n",
       "    <tr>\n",
       "      <th>1</th>\n",
       "      <td>i can go from feeling so hopeless to so damned...</td>\n",
       "      <td>0</td>\n",
       "    </tr>\n",
       "    <tr>\n",
       "      <th>2</th>\n",
       "      <td>im grabbing a minute to post i feel greedy wrong</td>\n",
       "      <td>3</td>\n",
       "    </tr>\n",
       "    <tr>\n",
       "      <th>3</th>\n",
       "      <td>i am ever feeling nostalgic about the fireplac...</td>\n",
       "      <td>2</td>\n",
       "    </tr>\n",
       "    <tr>\n",
       "      <th>4</th>\n",
       "      <td>i am feeling grouchy</td>\n",
       "      <td>3</td>\n",
       "    </tr>\n",
       "  </tbody>\n",
       "</table>\n",
       "</div>"
      ],
      "text/plain": [
       "                                                text  label\n",
       "0                            i didnt feel humiliated      0\n",
       "1  i can go from feeling so hopeless to so damned...      0\n",
       "2   im grabbing a minute to post i feel greedy wrong      3\n",
       "3  i am ever feeling nostalgic about the fireplac...      2\n",
       "4                               i am feeling grouchy      3"
      ]
     },
     "execution_count": 4,
     "metadata": {},
     "output_type": "execute_result"
    }
   ],
   "source": [
    "import pandas as pd\n",
    "emotions.set_format(type=\"pandas\")\n",
    "df=emotions[\"train\"][:]\n",
    "df.head()"
   ]
  },
  {
   "cell_type": "code",
   "execution_count": 5,
   "metadata": {},
   "outputs": [
    {
     "data": {
      "text/html": [
       "<div>\n",
       "<style scoped>\n",
       "    .dataframe tbody tr th:only-of-type {\n",
       "        vertical-align: middle;\n",
       "    }\n",
       "\n",
       "    .dataframe tbody tr th {\n",
       "        vertical-align: top;\n",
       "    }\n",
       "\n",
       "    .dataframe thead th {\n",
       "        text-align: right;\n",
       "    }\n",
       "</style>\n",
       "<table border=\"1\" class=\"dataframe\">\n",
       "  <thead>\n",
       "    <tr style=\"text-align: right;\">\n",
       "      <th></th>\n",
       "      <th>text</th>\n",
       "      <th>label</th>\n",
       "      <th>label_name</th>\n",
       "    </tr>\n",
       "  </thead>\n",
       "  <tbody>\n",
       "    <tr>\n",
       "      <th>0</th>\n",
       "      <td>i didnt feel humiliated</td>\n",
       "      <td>0</td>\n",
       "      <td>sadness</td>\n",
       "    </tr>\n",
       "    <tr>\n",
       "      <th>1</th>\n",
       "      <td>i can go from feeling so hopeless to so damned...</td>\n",
       "      <td>0</td>\n",
       "      <td>sadness</td>\n",
       "    </tr>\n",
       "    <tr>\n",
       "      <th>2</th>\n",
       "      <td>im grabbing a minute to post i feel greedy wrong</td>\n",
       "      <td>3</td>\n",
       "      <td>anger</td>\n",
       "    </tr>\n",
       "    <tr>\n",
       "      <th>3</th>\n",
       "      <td>i am ever feeling nostalgic about the fireplac...</td>\n",
       "      <td>2</td>\n",
       "      <td>love</td>\n",
       "    </tr>\n",
       "    <tr>\n",
       "      <th>4</th>\n",
       "      <td>i am feeling grouchy</td>\n",
       "      <td>3</td>\n",
       "      <td>anger</td>\n",
       "    </tr>\n",
       "  </tbody>\n",
       "</table>\n",
       "</div>"
      ],
      "text/plain": [
       "                                                text  label label_name\n",
       "0                            i didnt feel humiliated      0    sadness\n",
       "1  i can go from feeling so hopeless to so damned...      0    sadness\n",
       "2   im grabbing a minute to post i feel greedy wrong      3      anger\n",
       "3  i am ever feeling nostalgic about the fireplac...      2       love\n",
       "4                               i am feeling grouchy      3      anger"
      ]
     },
     "execution_count": 5,
     "metadata": {},
     "output_type": "execute_result"
    }
   ],
   "source": [
    "def label_int_to_str(row):\n",
    "    return emotions[\"train\"].features[\"label\"].int2str(row)\n",
    "\n",
    "df[\"label_name\"] = df[\"label\"].apply(label_int_to_str)\n",
    "df.head()"
   ]
  },
  {
   "cell_type": "code",
   "execution_count": 6,
   "metadata": {},
   "outputs": [
    {
     "name": "stdout",
     "output_type": "stream",
     "text": [
      "0 sadness\n",
      "3 anger\n",
      "2 love\n",
      "5 surprise\n",
      "4 fear\n",
      "1 joy\n",
      "\n",
      "sadness 0\n",
      "anger 3\n",
      "love 2\n",
      "surprise 5\n",
      "fear 4\n",
      "joy 1\n",
      "\n",
      "['sadness', 'joy', 'love', 'anger', 'fear', 'surprise']\n"
     ]
    }
   ],
   "source": [
    "emotions_l = ['sadness', 'anger', 'love', 'surprise', 'fear', 'joy']\n",
    "class_int2str = {}\n",
    "class_str2int = {}\n",
    "for emotion in emotions_l:\n",
    "    fc = df['label_name'] == emotion\n",
    "    class_num = df.loc[fc, 'label'].values[0]\n",
    "    class_str2int[emotion] = class_num\n",
    "    class_int2str[class_num] = emotion \n",
    "\n",
    "for k, v in class_int2str.items():\n",
    "    print(k, v)\n",
    "print()\n",
    "for k, v in class_str2int.items():\n",
    "    print(k, v)\n",
    "print()\n",
    "class_l = [class_int2str.get(i) for i in range(len(class_int2str.items()))]\n",
    "print(class_l)"
   ]
  },
  {
   "cell_type": "code",
   "execution_count": 7,
   "metadata": {},
   "outputs": [
    {
     "data": {
      "image/png": "[encoded data removed]",
      "text/plain": [
       "<Figure size 640x480 with 1 Axes>"
      ]
     },
     "metadata": {},
     "output_type": "display_data"
    }
   ],
   "source": [
    "import matplotlib.pyplot as plt\n",
    "\n",
    "df[\"label_name\"].value_counts(ascending=False).plot.bar()\n",
    "plt.title(\"Frequency Count of Classes\")\n",
    "plt.show()"
   ]
  },
  {
   "cell_type": "code",
   "execution_count": 8,
   "metadata": {},
   "outputs": [
    {
     "data": {
      "image/png": "[encoded data removed]",
      "text/plain": [
       "<Figure size 640x480 with 1 Axes>"
      ]
     },
     "metadata": {},
     "output_type": "display_data"
    }
   ],
   "source": [
    "df[\"Words Per Tweet\"] = df[\"text\"].str.split().apply(len)\n",
    "df.boxplot(\"Words Per Tweet\", by=\"label_name\", grid = False, showfliers = False, color = \"black\")\n",
    "plt.suptitle(\"\")\n",
    "plt.xlabel(\"\")\n",
    "plt.show()"
   ]
  },
  {
   "cell_type": "code",
   "execution_count": 9,
   "metadata": {},
   "outputs": [],
   "source": [
    "emotions.reset_format()"
   ]
  },
  {
   "cell_type": "markdown",
   "metadata": {},
   "source": [
    "# Data Preprocessing"
   ]
  },
  {
   "cell_type": "code",
   "execution_count": 10,
   "metadata": {},
   "outputs": [],
   "source": [
    "# !pip install --upgrade pip"
   ]
  },
  {
   "cell_type": "code",
   "execution_count": 11,
   "metadata": {},
   "outputs": [],
   "source": [
    "# !pip install -q transformers"
   ]
  },
  {
   "cell_type": "code",
   "execution_count": 12,
   "metadata": {},
   "outputs": [],
   "source": [
    "# from transformers import AutoTokenizer\n",
    "\n",
    "# model_ckpt = \"distilbert-base-uncased\"\n",
    "# tokenizer = AutoTokenizer.from_pretrained(model_ckpt)"
   ]
  },
  {
   "cell_type": "code",
   "execution_count": 15,
   "metadata": {},
   "outputs": [
    {
     "name": "stdout",
     "output_type": "stream",
     "text": [
      "{'input_ids': [101, 2023, 2003, 7592, 2088, 999, 102], 'attention_mask': [1, 1, 1, 1, 1, 1, 1]}\n",
      "['[CLS]', 'this', 'is', 'hello', 'world', '!', '[SEP]']\n"
     ]
    }
   ],
   "source": [
    "# test\n",
    "from transformers import DistilBertTokenizer\n",
    "\n",
    "model_ckpt = \"distilbert-base-uncased\"\n",
    "distbert_tokenize = DistilBertTokenizer.from_pretrained(model_ckpt)\n",
    "\n",
    "sample_text = \"This is Hello World!\"\n",
    "encoded_text = distbert_tokenize(sample_text)\n",
    "print(encoded_text)\n",
    "tokens = distbert_tokenize.convert_ids_to_tokens(encoded_text.input_ids)\n",
    "print(tokens)"
   ]
  },
  {
   "cell_type": "code",
   "execution_count": 16,
   "metadata": {},
   "outputs": [
    {
     "name": "stdout",
     "output_type": "stream",
     "text": [
      "30522\n",
      "512\n"
     ]
    }
   ],
   "source": [
    "# tokenizer attributes\n",
    "distbert_tokenize.convert_tokens_to_string(tokens)\n",
    "print(distbert_tokenize.vocab_size)\n",
    "print(distbert_tokenize.model_max_length)"
   ]
  },
  {
   "cell_type": "markdown",
   "metadata": {},
   "source": [
    "## Tokenizing the entire dataset"
   ]
  },
  {
   "cell_type": "code",
   "execution_count": 24,
   "metadata": {},
   "outputs": [
    {
     "name": "stdout",
     "output_type": "stream",
     "text": [
      "{'text': 'i didnt feel humiliated', 'label': 0}\n",
      "sadness\n",
      "{'input_ids': [101, 1045, 2134, 2102, 2514, 26608, 102], 'attention_mask': [1, 1, 1, 1, 1, 1, 1]} \n",
      "\n",
      "{'text': 'i can go from feeling so hopeless to so damned hopeful just from being around someone who cares and is awake', 'label': 0}\n",
      "sadness\n",
      "{'input_ids': [101, 1045, 2064, 2175, 2013, 3110, 2061, 20625, 2000, 2061, 9636, 17772, 2074, 2013, 2108, 2105, 2619, 2040, 14977, 1998, 2003, 8300, 102], 'attention_mask': [1, 1, 1, 1, 1, 1, 1, 1, 1, 1, 1, 1, 1, 1, 1, 1, 1, 1, 1, 1, 1, 1, 1]} \n",
      "\n",
      "{'text': 'im grabbing a minute to post i feel greedy wrong', 'label': 3}\n",
      "anger\n",
      "{'input_ids': [101, 10047, 9775, 1037, 3371, 2000, 2695, 1045, 2514, 20505, 3308, 102], 'attention_mask': [1, 1, 1, 1, 1, 1, 1, 1, 1, 1, 1, 1]} \n",
      "\n"
     ]
    }
   ],
   "source": [
    "from transformers import DistilBertTokenizer\n",
    "\n",
    "model_ckpt = \"distilbert-base-uncased\"\n",
    "distbert_tokenize = DistilBertTokenizer.from_pretrained(model_ckpt)\n",
    "\n",
    "def tokenize(batch):\n",
    "    return distbert_tokenize(batch[\"text\"], truncation=True)\n",
    "\n",
    "# check\n",
    "idxs = [0, 1, 2]\n",
    "for idx in idxs:\n",
    "    print(emotions[\"train\"][idx])\n",
    "    print(class_int2str.get(emotions[\"train\"][idx].get('label')))\n",
    "    print(tokenize(emotions[\"train\"][idx]), '\\n')"
   ]
  },
  {
   "cell_type": "raw",
   "metadata": {},
   "source": [
    "This is what the training text labeled the text as. \n",
    "\n",
    "However, it seems to be that without further context, it is not easy to discern the true emotion of the person making the statements. \n",
    "\n",
    "    E.g. \"I didn't feel humiliated\" could have been said in anger, sadness, even joy.\n",
    "\n",
    "This is something to research deeper to find a more effective solution in future. \n",
    "\n",
    "Sidenote: this is also why I am not keen to remove all punctuation as it can be used as a signal for the true emotion. \n",
    "\n",
    "Perhaps just remove punctuation that are obviously duplicates ... \n",
    "    e.g. remove \",,,\" but keep \"...\" since this form is frequently used to indicate \"frustration\" or \"confusion/bewilderment\" or \"helplessness\"\n",
    "\n",
    "    However, this dataset has already removed the punctuation ... \n",
    "\n",
    "    You see my point? :)  \n",
    "\n",
    "Also, emoticons can have value too in emotion classification. "
   ]
  },
  {
   "cell_type": "code",
   "execution_count": 25,
   "metadata": {},
   "outputs": [
    {
     "data": {
      "application/vnd.jupyter.widget-view+json": {
       "model_id": "cb100bce39874380be97001ed7928a02",
       "version_major": 2,
       "version_minor": 0
      },
      "text/plain": [
       "Map:   0%|          | 0/16000 [00:00<?, ? examples/s]"
      ]
     },
     "metadata": {},
     "output_type": "display_data"
    },
    {
     "data": {
      "application/vnd.jupyter.widget-view+json": {
       "model_id": "77143d24566b4629b4e5b23d2f12ddc2",
       "version_major": 2,
       "version_minor": 0
      },
      "text/plain": [
       "Map:   0%|          | 0/2000 [00:00<?, ? examples/s]"
      ]
     },
     "metadata": {},
     "output_type": "display_data"
    },
    {
     "data": {
      "application/vnd.jupyter.widget-view+json": {
       "model_id": "71a0dc3b4d074dac83d13b55de4cd838",
       "version_major": 2,
       "version_minor": 0
      },
      "text/plain": [
       "Map:   0%|          | 0/2000 [00:00<?, ? examples/s]"
      ]
     },
     "metadata": {},
     "output_type": "display_data"
    }
   ],
   "source": [
    "# Now we tokenise the entire dataset\n",
    "emotions_encoded = emotions.map(tokenize, batched=True, batch_size=None)"
   ]
  },
  {
   "cell_type": "markdown",
   "metadata": {},
   "source": [
    "## Padding"
   ]
  },
  {
   "cell_type": "code",
   "execution_count": 26,
   "metadata": {},
   "outputs": [],
   "source": [
    "from transformers import DataCollatorWithPadding\n",
    "\n",
    "data_collator = DataCollatorWithPadding(tokenizer = distbert_tokenize)"
   ]
  },
  {
   "cell_type": "code",
   "execution_count": 27,
   "metadata": {},
   "outputs": [
    {
     "data": {
      "text/plain": [
       "['text', 'label', 'input_ids', 'attention_mask']"
      ]
     },
     "execution_count": 27,
     "metadata": {},
     "output_type": "execute_result"
    }
   ],
   "source": [
    "emotions_encoded[\"train\"].column_names"
   ]
  },
  {
   "cell_type": "markdown",
   "metadata": {},
   "source": [
    "# Train BERT-based Model"
   ]
  },
  {
   "cell_type": "code",
   "execution_count": 31,
   "metadata": {},
   "outputs": [
    {
     "name": "stderr",
     "output_type": "stream",
     "text": [
      "Some weights of DistilBertForSequenceClassification were not initialized from the model checkpoint at distilbert-base-uncased and are newly initialized: ['classifier.bias', 'pre_classifier.weight', 'pre_classifier.bias', 'classifier.weight']\n",
      "You should probably TRAIN this model on a down-stream task to be able to use it for predictions and inference.\n"
     ]
    }
   ],
   "source": [
    "import torch\n",
    "from transformers import AutoModelForSequenceClassification\n",
    "\n",
    "num_labels = len(class_l)\n",
    "device = torch.device(\"cuda\" if torch.cuda.is_available() else \"cpu\")\n",
    "\n",
    "model = AutoModelForSequenceClassification.from_pretrained(model_ckpt, num_labels = num_labels).to(device)"
   ]
  },
  {
   "cell_type": "raw",
   "metadata": {},
   "source": [
    "Warning msg:\n",
    "\n",
    "Some weights of DistilBertForSequenceClassification were not initialized from the model checkpoint at distilbert-base-uncased and are newly initialized: ['pre_classifier.bias', 'classifier.weight', 'classifier.bias', 'pre_classifier.weight']\n",
    "You should probably TRAIN this model on a down-stream task to be able to use it for predictions and inference.\n",
    "\n",
    "# i.e. we must train this model or it may not be useful for inferencing, which we are going to do below."
   ]
  },
  {
   "cell_type": "markdown",
   "metadata": {},
   "source": [
    "### Evaluate"
   ]
  },
  {
   "cell_type": "code",
   "execution_count": null,
   "metadata": {},
   "outputs": [],
   "source": [
    "# !pip install -q evaluate"
   ]
  },
  {
   "cell_type": "code",
   "execution_count": 32,
   "metadata": {},
   "outputs": [],
   "source": [
    "import evaluate\n",
    "import numpy as np\n",
    "\n",
    "accuracy = evaluate.load(\"accuracy\")\n",
    "\n",
    "def compute_metrics(eval_pred):\n",
    "    predictions, labels = eval_pred\n",
    "    predictions = np.argmax(predictions, axis=1)\n",
    "    return accuracy.compute(predictions=predictions, \n",
    "                           references = labels)"
   ]
  },
  {
   "cell_type": "code",
   "execution_count": null,
   "metadata": {},
   "outputs": [],
   "source": [
    "# !pip install ipywidgets"
   ]
  },
  {
   "cell_type": "code",
   "execution_count": null,
   "metadata": {},
   "outputs": [],
   "source": [
    "# !pip install transformers[torch]"
   ]
  },
  {
   "cell_type": "markdown",
   "metadata": {},
   "source": [
    "### Logging to HuggingFace"
   ]
  },
  {
   "cell_type": "code",
   "execution_count": null,
   "metadata": {},
   "outputs": [],
   "source": [
    "from huggingface_hub import notebook_login\n",
    "notebook_login()"
   ]
  },
  {
   "cell_type": "markdown",
   "metadata": {},
   "source": [
    "## Setting Training Arguments"
   ]
  },
  {
   "cell_type": "code",
   "execution_count": 33,
   "metadata": {
    "scrolled": true
   },
   "outputs": [],
   "source": [
    "from transformers import TrainingArguments\n",
    "\n",
    "training_args = TrainingArguments(\n",
    "    output_dir=\"distilbert-emotion\",\n",
    "    num_train_epochs = 3,   \n",
    "    per_device_train_batch_size=64,\n",
    "    per_device_eval_batch_size=64,\n",
    "    weight_decay=0.01,\n",
    "    evaluation_strategy=\"epoch\",\n",
    "    save_strategy = \"epoch\",\n",
    "    load_best_model_at_end = True,\n",
    "    push_to_hub = True,\n",
    "    report_to = \"none\"    \n",
    ")"
   ]
  },
  {
   "cell_type": "code",
   "execution_count": 35,
   "metadata": {},
   "outputs": [
    {
     "data": {
      "text/html": [
       "\n",
       "    <div>\n",
       "      \n",
       "      <progress value='750' max='750' style='width:300px; height:20px; vertical-align: middle;'></progress>\n",
       "      [750/750 2:01:08, Epoch 3/3]\n",
       "    </div>\n",
       "    <table border=\"1\" class=\"dataframe\">\n",
       "  <thead>\n",
       " <tr style=\"text-align: left;\">\n",
       "      <th>Epoch</th>\n",
       "      <th>Training Loss</th>\n",
       "      <th>Validation Loss</th>\n",
       "      <th>Accuracy</th>\n",
       "    </tr>\n",
       "  </thead>\n",
       "  <tbody>\n",
       "    <tr>\n",
       "      <td>1</td>\n",
       "      <td>No log</td>\n",
       "      <td>0.195365</td>\n",
       "      <td>0.926000</td>\n",
       "    </tr>\n",
       "    <tr>\n",
       "      <td>2</td>\n",
       "      <td>0.349400</td>\n",
       "      <td>0.147217</td>\n",
       "      <td>0.937000</td>\n",
       "    </tr>\n",
       "    <tr>\n",
       "      <td>3</td>\n",
       "      <td>0.349400</td>\n",
       "      <td>0.133256</td>\n",
       "      <td>0.938500</td>\n",
       "    </tr>\n",
       "  </tbody>\n",
       "</table><p>"
      ],
      "text/plain": [
       "<IPython.core.display.HTML object>"
      ]
     },
     "metadata": {},
     "output_type": "display_data"
    },
    {
     "data": {
      "text/plain": [
       "TrainOutput(global_step=750, training_loss=0.26405045064290367, metrics={'train_runtime': 7273.3781, 'train_samples_per_second': 6.599, 'train_steps_per_second': 0.103, 'total_flos': 702110735472384.0, 'train_loss': 0.26405045064290367, 'epoch': 3.0})"
      ]
     },
     "execution_count": 35,
     "metadata": {},
     "output_type": "execute_result"
    }
   ],
   "source": [
    "from transformers import Trainer\n",
    "\n",
    "trainer = Trainer(\n",
    "    model = model,\n",
    "    args = training_args,\n",
    "    compute_metrics = compute_metrics,\n",
    "    train_dataset = emotions_encoded[\"train\"],\n",
    "    eval_dataset = emotions_encoded[\"validation\"],\n",
    "    tokenizer = distbert_tokenize\n",
    ")\n",
    "trainer.train()"
   ]
  },
  {
   "cell_type": "markdown",
   "metadata": {},
   "source": [
    "# Evaluate Performance"
   ]
  },
  {
   "cell_type": "markdown",
   "metadata": {},
   "source": [
    "## Predicting the validation dataset"
   ]
  },
  {
   "cell_type": "code",
   "execution_count": 36,
   "metadata": {},
   "outputs": [
    {
     "data": {
      "text/html": [],
      "text/plain": [
       "<IPython.core.display.HTML object>"
      ]
     },
     "metadata": {},
     "output_type": "display_data"
    }
   ],
   "source": [
    "preds_output = trainer.predict(emotions_encoded[\"validation\"])"
   ]
  },
  {
   "cell_type": "code",
   "execution_count": 37,
   "metadata": {},
   "outputs": [
    {
     "data": {
      "text/plain": [
       "{'test_loss': 0.13325634598731995,\n",
       " 'test_accuracy': 0.9385,\n",
       " 'test_runtime': 99.0135,\n",
       " 'test_samples_per_second': 20.199,\n",
       " 'test_steps_per_second': 0.323}"
      ]
     },
     "execution_count": 37,
     "metadata": {},
     "output_type": "execute_result"
    }
   ],
   "source": [
    "preds_output.metrics"
   ]
  },
  {
   "cell_type": "markdown",
   "metadata": {},
   "source": [
    "# Confusion Matrix"
   ]
  },
  {
   "cell_type": "code",
   "execution_count": 38,
   "metadata": {},
   "outputs": [],
   "source": [
    "from sklearn.metrics import ConfusionMatrixDisplay, confusion_matrix\n",
    "\n",
    "y_preds = np.argmax(preds_output.predictions, axis=1)\n",
    "\n",
    "def plot_confusion_matrix(y_preds, y_true, labels):\n",
    "    cm = confusion_matrix(y_true, y_preds, normalize = \"true\")\n",
    "    fig, ax = plt.subplots(figsize=(6,6))\n",
    "    disp = ConfusionMatrixDisplay(confusion_matrix = cm, \n",
    "                                 display_labels=labels)\n",
    "    disp.plot(cmap=\"Blues\", values_format = \".2f\", ax = ax,\n",
    "             colorbar=False)\n",
    "    plt.title(\"Normalized confusion matrix\")\n",
    "    plt.show()"
   ]
  },
  {
   "cell_type": "code",
   "execution_count": 39,
   "metadata": {},
   "outputs": [],
   "source": [
    "y_valid = np.array(emotions_encoded[\"validation\"][\"label\"])\n",
    "labels = emotions[\"train\"].features[\"label\"].names"
   ]
  },
  {
   "cell_type": "code",
   "execution_count": 40,
   "metadata": {},
   "outputs": [
    {
     "data": {
      "image/png": "[encoded data removed]",
      "text/plain": [
       "<Figure size 600x600 with 1 Axes>"
      ]
     },
     "metadata": {},
     "output_type": "display_data"
    }
   ],
   "source": [
    "plot_confusion_matrix(y_preds, y_valid, labels)"
   ]
  },
  {
   "cell_type": "code",
   "execution_count": 41,
   "metadata": {},
   "outputs": [
    {
     "data": {
      "text/plain": [
       "'https://huggingface.co/richardchai/distilbert-emotion/tree/main/'"
      ]
     },
     "execution_count": 41,
     "metadata": {},
     "output_type": "execute_result"
    }
   ],
   "source": [
    "trainer.push_to_hub(commit_message=\"Training completed! - 3 epochs\")"
   ]
  },
  {
   "cell_type": "markdown",
   "metadata": {},
   "source": [
    "# Download the Trained Model from HuggingFaceHub and Predict"
   ]
  },
  {
   "cell_type": "code",
   "execution_count": 42,
   "metadata": {},
   "outputs": [
    {
     "data": {
      "application/vnd.jupyter.widget-view+json": {
       "model_id": "04345d92eae749428b7f6c36d42c3740",
       "version_major": 2,
       "version_minor": 0
      },
      "text/plain": [
       "Downloading (…)lve/main/config.json:   0%|          | 0.00/883 [00:00<?, ?B/s]"
      ]
     },
     "metadata": {},
     "output_type": "display_data"
    },
    {
     "name": "stderr",
     "output_type": "stream",
     "text": [
      "C:\\py310\\ML_01\\lib\\site-packages\\huggingface_hub\\file_download.py:137: UserWarning: `huggingface_hub` cache-system uses symlinks by default to efficiently store duplicated files but your machine does not support them in C:\\Users\\richa\\.cache\\huggingface\\hub. Caching files will still work but in a degraded version that might require more space on your disk. This warning can be disabled by setting the `HF_HUB_DISABLE_SYMLINKS_WARNING` environment variable. For more details, see https://huggingface.co/docs/huggingface_hub/how-to-cache#limitations.\n",
      "To support symlinks on Windows, you either need to activate Developer Mode or to run Python as an administrator. In order to see activate developer mode, see this article: https://docs.microsoft.com/en-us/windows/apps/get-started/enable-your-device-for-development\n",
      "  warnings.warn(message)\n"
     ]
    },
    {
     "data": {
      "application/vnd.jupyter.widget-view+json": {
       "model_id": "d637d047ee2d4ce58ae49b462360048e",
       "version_major": 2,
       "version_minor": 0
      },
      "text/plain": [
       "Downloading pytorch_model.bin:   0%|          | 0.00/268M [00:00<?, ?B/s]"
      ]
     },
     "metadata": {},
     "output_type": "display_data"
    },
    {
     "data": {
      "application/vnd.jupyter.widget-view+json": {
       "model_id": "450f92bcfacc44a9b6bb72d20cc775b3",
       "version_major": 2,
       "version_minor": 0
      },
      "text/plain": [
       "Downloading (…)okenizer_config.json:   0%|          | 0.00/1.25k [00:00<?, ?B/s]"
      ]
     },
     "metadata": {},
     "output_type": "display_data"
    },
    {
     "data": {
      "application/vnd.jupyter.widget-view+json": {
       "model_id": "42f93c36f1af4d5dad09392999d94b41",
       "version_major": 2,
       "version_minor": 0
      },
      "text/plain": [
       "Downloading (…)solve/main/vocab.txt:   0%|          | 0.00/232k [00:00<?, ?B/s]"
      ]
     },
     "metadata": {},
     "output_type": "display_data"
    },
    {
     "data": {
      "application/vnd.jupyter.widget-view+json": {
       "model_id": "ea5d79818e344f73be81a6953e671b6d",
       "version_major": 2,
       "version_minor": 0
      },
      "text/plain": [
       "Downloading (…)/main/tokenizer.json:   0%|          | 0.00/711k [00:00<?, ?B/s]"
      ]
     },
     "metadata": {},
     "output_type": "display_data"
    },
    {
     "data": {
      "application/vnd.jupyter.widget-view+json": {
       "model_id": "0041825523e14c95a50fea00065ef83d",
       "version_major": 2,
       "version_minor": 0
      },
      "text/plain": [
       "Downloading (…)cial_tokens_map.json:   0%|          | 0.00/125 [00:00<?, ?B/s]"
      ]
     },
     "metadata": {},
     "output_type": "display_data"
    }
   ],
   "source": [
    "from transformers import pipeline\n",
    "\n",
    "model_id = \"richardchai/distilbert-emotion\"\n",
    "classifier = pipeline(\"text-classification\", model= model_id)"
   ]
  },
  {
   "cell_type": "code",
   "execution_count": 43,
   "metadata": {},
   "outputs": [
    {
     "name": "stderr",
     "output_type": "stream",
     "text": [
      "C:\\py310\\ML_01\\lib\\site-packages\\transformers\\pipelines\\text_classification.py:105: UserWarning: `return_all_scores` is now deprecated,  if want a similar functionality use `top_k=None` instead of `return_all_scores=True` or `top_k=1` instead of `return_all_scores=False`.\n",
      "  warnings.warn(\n"
     ]
    },
    {
     "data": {
      "image/png": "[encoded data removed]",
      "text/plain": [
       "<Figure size 640x480 with 1 Axes>"
      ]
     },
     "metadata": {},
     "output_type": "display_data"
    }
   ],
   "source": [
    "# custom_text=\"what isn't there a neutral mood?\"  # hmmmm.\n",
    "# custom_text=\"i can go from feeling so hopeless to so damned hopeful just from being around someone who cares and is awake.\"\n",
    "# custom_text=\"i am feeling so damned hopeful just from being around someone who cares and is awake.\"\n",
    "# custom_text=\"I just want to sleep in today\"\n",
    "custom_text=\"Seems like as long as it is not one of the negative moods, we can treat neutral as if it was joy.\"\n",
    "\n",
    "preds=classifier(custom_text, return_all_scores = True)\n",
    "preds_df = pd.DataFrame(preds[0])\n",
    "plt.bar(labels, 100*preds_df[\"score\"])\n",
    "plt.title(f'\"{custom_text}\"')\n",
    "plt.ylabel(\"Class probability (%)\")\n",
    "plt.show()"
   ]
  },
  {
   "cell_type": "code",
   "execution_count": 64,
   "metadata": {},
   "outputs": [
    {
     "data": {
      "text/plain": [
       "{0: 'sadness', 3: 'anger', 2: 'love', 5: 'surprise', 4: 'fear', 1: 'joy'}"
      ]
     },
     "execution_count": 64,
     "metadata": {},
     "output_type": "execute_result"
    }
   ],
   "source": [
    "class_int2str"
   ]
  },
  {
   "cell_type": "code",
   "execution_count": 101,
   "metadata": {},
   "outputs": [
    {
     "name": "stdout",
     "output_type": "stream",
     "text": [
      "i feel especially strongly about this since i have hated my teeth forever i was one of the unlucky ones who got bad genetics and an even worst orthodontist and pediatric dentist\n",
      "anger (3) \t--> \t0.74\n",
      "sadness (0) \t--> \t0.25\n",
      "love (2) \t--> \t0.01\n",
      "---------------------------------------------------------------------------------------------------- \n",
      "\n",
      "i feel like we barely know each other and time just isnt being generous with our love\n",
      "love (2) \t--> \t0.73\n",
      "joy (1) \t--> \t0.27\n",
      "surprise (5) \t--> \t0.0\n",
      "---------------------------------------------------------------------------------------------------- \n",
      "\n",
      "i was feeling extremely shitty physically this morning\n",
      "sadness (0) \t--> \t1.0\n",
      "anger (3) \t--> \t0.0\n",
      "joy (1) \t--> \t0.0\n",
      "---------------------------------------------------------------------------------------------------- \n",
      "\n",
      "i looked around and once again was disappointed that so little had shown up this evening but apparently this was my day to feel selfish\n",
      "anger (3) \t--> \t0.99\n",
      "sadness (0) \t--> \t0.0\n",
      "fear (4) \t--> \t0.0\n",
      "---------------------------------------------------------------------------------------------------- \n",
      "\n",
      "i feel a bit strange publishing these beautiful photos\n",
      "fear (4) \t--> \t0.66\n",
      "surprise (5) \t--> \t0.33\n",
      "sadness (0) \t--> \t0.0\n",
      "---------------------------------------------------------------------------------------------------- \n",
      "\n",
      "i promised myself that i wont enter anymore giveaways because i feel greedy but i couldnt resist this one\n",
      "anger (3) \t--> \t0.99\n",
      "fear (4) \t--> \t0.0\n",
      "sadness (0) \t--> \t0.0\n",
      "---------------------------------------------------------------------------------------------------- \n",
      "\n",
      "i feel like im almost uh afraid of everything so to speak\n",
      "fear (4) \t--> \t0.99\n",
      "sadness (0) \t--> \t0.0\n",
      "anger (3) \t--> \t0.0\n",
      "---------------------------------------------------------------------------------------------------- \n",
      "\n",
      "i was feeling abnormally wimpy so i staked out my bird feeder\n",
      "fear (4) \t--> \t0.99\n",
      "surprise (5) \t--> \t0.0\n",
      "sadness (0) \t--> \t0.0\n",
      "---------------------------------------------------------------------------------------------------- \n",
      "\n",
      "i feel like my trust is being abused the less i feel like theres a future for us\n",
      "sadness (0) \t--> \t1.0\n",
      "fear (4) \t--> \t0.0\n",
      "anger (3) \t--> \t0.0\n",
      "---------------------------------------------------------------------------------------------------- \n",
      "\n",
      "i still feel sleep deprived she is almost sleeping through the night giving us\n",
      "sadness (0) \t--> \t1.0\n",
      "fear (4) \t--> \t0.0\n",
      "anger (3) \t--> \t0.0\n",
      "---------------------------------------------------------------------------------------------------- \n",
      "\n",
      "I've been waiting so long for this day, finally, it's here!\n",
      "anger (3) \t--> \t0.82\n",
      "joy (1) \t--> \t0.14\n",
      "fear (4) \t--> \t0.02\n",
      "---------------------------------------------------------------------------------------------------- \n",
      "\n"
     ]
    }
   ],
   "source": [
    "from typing import List\n",
    "from dataclasses import dataclass\n",
    "\n",
    "@dataclass\n",
    "class prediction_dc:\n",
    "    label_num: int\n",
    "    label_name: str\n",
    "    label_score: float\n",
    "\n",
    "    def __gt__(self, other):\n",
    "        return (self.label_score > other.label_score)\n",
    "\n",
    "    def __eq__(self, other):\n",
    "        return (self.label_score == other.label_score)\n",
    "\n",
    "\n",
    "sample_texts = [\n",
    "    'i feel especially strongly about this since i have hated my teeth forever i was one of the unlucky ones who got bad genetics and an even worst orthodontist and pediatric dentist',\n",
    "    'i feel like we barely know each other and time just isnt being generous with our love',\n",
    "    'i was feeling extremely shitty physically this morning',\n",
    "    'i looked around and once again was disappointed that so little had shown up this evening but apparently this was my day to feel selfish',\n",
    "    'i feel a bit strange publishing these beautiful photos',\n",
    "    'i promised myself that i wont enter anymore giveaways because i feel greedy but i couldnt resist this one',\n",
    "    'i feel like im almost uh afraid of everything so to speak',\n",
    "    'i was feeling abnormally wimpy so i staked out my bird feeder',\n",
    "    'i feel like my trust is being abused the less i feel like theres a future for us',\n",
    "    'i still feel sleep deprived she is almost sleeping through the night giving us',\n",
    "    \"I've been waiting so long for this day, finally, it's here!\"\n",
    "]\n",
    "\n",
    "def pred_results(labels_d: dict, preds: list, top_k=-1, desc=True, verbose=False) -> List[prediction_dc]:\n",
    "    \"\"\"\n",
    "    preds is a list of dict (k is 'label', v is 'score')\n",
    "        format: \n",
    "            'label': 'LABEL_N':str e.g. LABEL_0 or LABEL_1 ... LABEL_N\n",
    "            'score': float\n",
    "    if verbose: print all results\n",
    "    returns a list of dicts of label_name:score, sorted from highest score to lowest score \n",
    "    \"\"\"\n",
    "    prediction_dc_l = []\n",
    "    for pred in preds:\n",
    "        for i in range(len(labels_d)):\n",
    "            if str(i) in pred.get('label'):\n",
    "                class_num = i\n",
    "                class_name = labels_d.get(class_num)\n",
    "                class_score = pred.get('score')\n",
    "                # print(class_num, class_name, class_score)\n",
    "                prediction_dc_l.append(prediction_dc(label_num=class_num, label_name=class_name, label_score=class_score))\n",
    "    if desc:\n",
    "        prediction_dc_l = sorted(prediction_dc_l, reverse=True)\n",
    "    else:\n",
    "        prediction_dc_l = sorted(prediction_dc_l, reverse=False)\n",
    "        \n",
    "    if verbose:\n",
    "        for pdc in prediction_dc_l:\n",
    "            print(pdc)\n",
    "    if top_k==-1:\n",
    "        return prediction_dc_l\n",
    "    else:\n",
    "        return prediction_dc_l[:top_k]\n",
    "            \n",
    "\n",
    "for text in sample_texts:\n",
    "    preds=classifier(text, return_all_scores = True)\n",
    "    print(text)  # class_int2str\n",
    "    top_k_results = pred_results(class_int2str, preds[0], top_k=3, desc=True, verbose=False)\n",
    "    # print(f\"\\tEmotion classified as: {top_k_results[0].get('class_name')} : {top_k_results[0].get('score')}\")\n",
    "\n",
    "    for k in top_k_results:\n",
    "        print(f\"{k.label_name} ({k.label_num}) \\t--> \\t{round(k.label_score, 2)}\")\n",
    "    print('-'*100, '\\n')"
   ]
  },
  {
   "cell_type": "raw",
   "metadata": {},
   "source": [
    "Although DistilBert has a higher score (0.9385) than Logistic Regression (0.8859), base on initial testing (above), it seems that the performance\n",
    "of both algorithms are similar, with Logistic Regression having the edge in being \"significantly faster\" to train and to retrain (with an improved dataset).\n",
    "\n",
    "As this project is meant to take no more than 10 days end to end, from design, to coding, documentation, presentations, I opt to proceed ahead with Logistic Regression.\n",
    "\n",
    "Given more time, my choice may be different as I would do more testing to see how well both algorithms generalise (bias-variance tradeoff) before making a final decision."
   ]
  }
 ],
 "metadata": {
  "kernelspec": {
   "display_name": "Python 3 (ipykernel)",
   "language": "python",
   "name": "python3"
  },
  "language_info": {
   "codemirror_mode": {
    "name": "ipython",
    "version": 3
   },
   "file_extension": ".py",
   "mimetype": "text/x-python",
   "name": "python",
   "nbconvert_exporter": "python",
   "pygments_lexer": "ipython3",
   "version": "3.10.11"
  }
 },
 "nbformat": 4,
 "nbformat_minor": 4
}
